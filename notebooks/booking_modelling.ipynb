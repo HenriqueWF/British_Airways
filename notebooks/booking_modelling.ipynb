{
 "cells": [
  {
   "cell_type": "code",
   "execution_count": 2,
   "metadata": {
    "is_executing": true
   },
   "outputs": [],
   "source": [
    "import mlflow\n",
    "import optuna\n",
    "import joblib\n",
    "import warnings\n",
    "import pandas as pd\n",
    "import ml_insights as mli\n",
    "import category_encoders as ce\n",
    "import matplotlib.pyplot as plt\n",
    "\n",
    "# Preprocessamento\n",
    "from sklearn.pipeline import Pipeline\n",
    "from sklearn.compose import ColumnTransformer\n",
    "from feature_engine.selection import DropConstantFeatures, DropCorrelatedFeatures\n",
    "from sklearn.model_selection import train_test_split, cross_val_score, StratifiedKFold\n",
    "from sklearn.preprocessing import StandardScaler, RobustScaler, OneHotEncoder, PowerTransformer, PolynomialFeatures\n",
    "\n",
    "# Modelos\n",
    "from xgboost import XGBClassifier\n",
    "from lightgbm import LGBMClassifier\n",
    "from catboost import CatBoostClassifier\n",
    "from sklearn.isotonic import IsotonicRegression\n",
    "from sklearn.tree import DecisionTreeClassifier\n",
    "from sklearn.linear_model import LogisticRegression\n",
    "from sklearn.ensemble import RandomForestClassifier\n",
    "\n",
    "# Metricas\n",
    "from sklearn.metrics import log_loss\n",
    "\n",
    "# Ignora warnings\n",
    "warnings.filterwarnings('ignore')\n"
   ]
  },
  {
   "cell_type": "markdown",
   "metadata": {},
   "source": [
    "# Exploração dos dados\n",
    "\n",
    "Nesta sessão, irei explorar os dados para entender melhor o que está por trás e\n",
    "decidir como a parte de experimentação será realizada. "
   ]
  },
  {
   "cell_type": "markdown",
   "metadata": {},
   "source": [
    "## Impressões iniciais\n",
    "\n",
    "Nesta etapa irei observar os dados de forma superficial para entender como estão\n",
    "estruturados e quais informações estão disponíveis."
   ]
  },
  {
   "cell_type": "code",
   "execution_count": 2,
   "metadata": {},
   "outputs": [],
   "source": [
    "# importando os dados\n",
    "dados = pd.read_csv('../data/raw/customer_booking.csv', encoding='latin-1')"
   ]
  },
  {
   "cell_type": "code",
   "execution_count": 3,
   "metadata": {},
   "outputs": [
    {
     "data": {
      "text/html": [
       "<div>\n",
       "<style scoped>\n",
       "    .dataframe tbody tr th:only-of-type {\n",
       "        vertical-align: middle;\n",
       "    }\n",
       "\n",
       "    .dataframe tbody tr th {\n",
       "        vertical-align: top;\n",
       "    }\n",
       "\n",
       "    .dataframe thead th {\n",
       "        text-align: right;\n",
       "    }\n",
       "</style>\n",
       "<table border=\"1\" class=\"dataframe\">\n",
       "  <thead>\n",
       "    <tr style=\"text-align: right;\">\n",
       "      <th></th>\n",
       "      <th>num_passengers</th>\n",
       "      <th>sales_channel</th>\n",
       "      <th>trip_type</th>\n",
       "      <th>purchase_lead</th>\n",
       "      <th>length_of_stay</th>\n",
       "      <th>flight_hour</th>\n",
       "      <th>flight_day</th>\n",
       "      <th>route</th>\n",
       "      <th>booking_origin</th>\n",
       "      <th>wants_extra_baggage</th>\n",
       "      <th>wants_preferred_seat</th>\n",
       "      <th>wants_in_flight_meals</th>\n",
       "      <th>flight_duration</th>\n",
       "      <th>booking_complete</th>\n",
       "    </tr>\n",
       "  </thead>\n",
       "  <tbody>\n",
       "    <tr>\n",
       "      <th>0</th>\n",
       "      <td>2</td>\n",
       "      <td>Internet</td>\n",
       "      <td>RoundTrip</td>\n",
       "      <td>262</td>\n",
       "      <td>19</td>\n",
       "      <td>7</td>\n",
       "      <td>Sat</td>\n",
       "      <td>AKLDEL</td>\n",
       "      <td>New Zealand</td>\n",
       "      <td>1</td>\n",
       "      <td>0</td>\n",
       "      <td>0</td>\n",
       "      <td>5.52</td>\n",
       "      <td>0</td>\n",
       "    </tr>\n",
       "    <tr>\n",
       "      <th>1</th>\n",
       "      <td>1</td>\n",
       "      <td>Internet</td>\n",
       "      <td>RoundTrip</td>\n",
       "      <td>112</td>\n",
       "      <td>20</td>\n",
       "      <td>3</td>\n",
       "      <td>Sat</td>\n",
       "      <td>AKLDEL</td>\n",
       "      <td>New Zealand</td>\n",
       "      <td>0</td>\n",
       "      <td>0</td>\n",
       "      <td>0</td>\n",
       "      <td>5.52</td>\n",
       "      <td>0</td>\n",
       "    </tr>\n",
       "    <tr>\n",
       "      <th>2</th>\n",
       "      <td>2</td>\n",
       "      <td>Internet</td>\n",
       "      <td>RoundTrip</td>\n",
       "      <td>243</td>\n",
       "      <td>22</td>\n",
       "      <td>17</td>\n",
       "      <td>Wed</td>\n",
       "      <td>AKLDEL</td>\n",
       "      <td>India</td>\n",
       "      <td>1</td>\n",
       "      <td>1</td>\n",
       "      <td>0</td>\n",
       "      <td>5.52</td>\n",
       "      <td>0</td>\n",
       "    </tr>\n",
       "    <tr>\n",
       "      <th>3</th>\n",
       "      <td>1</td>\n",
       "      <td>Internet</td>\n",
       "      <td>RoundTrip</td>\n",
       "      <td>96</td>\n",
       "      <td>31</td>\n",
       "      <td>4</td>\n",
       "      <td>Sat</td>\n",
       "      <td>AKLDEL</td>\n",
       "      <td>New Zealand</td>\n",
       "      <td>0</td>\n",
       "      <td>0</td>\n",
       "      <td>1</td>\n",
       "      <td>5.52</td>\n",
       "      <td>0</td>\n",
       "    </tr>\n",
       "    <tr>\n",
       "      <th>4</th>\n",
       "      <td>2</td>\n",
       "      <td>Internet</td>\n",
       "      <td>RoundTrip</td>\n",
       "      <td>68</td>\n",
       "      <td>22</td>\n",
       "      <td>15</td>\n",
       "      <td>Wed</td>\n",
       "      <td>AKLDEL</td>\n",
       "      <td>India</td>\n",
       "      <td>1</td>\n",
       "      <td>0</td>\n",
       "      <td>1</td>\n",
       "      <td>5.52</td>\n",
       "      <td>0</td>\n",
       "    </tr>\n",
       "  </tbody>\n",
       "</table>\n",
       "</div>"
      ],
      "text/plain": [
       "   num_passengers sales_channel  trip_type  purchase_lead  length_of_stay  \\\n",
       "0               2      Internet  RoundTrip            262              19   \n",
       "1               1      Internet  RoundTrip            112              20   \n",
       "2               2      Internet  RoundTrip            243              22   \n",
       "3               1      Internet  RoundTrip             96              31   \n",
       "4               2      Internet  RoundTrip             68              22   \n",
       "\n",
       "   flight_hour flight_day   route booking_origin  wants_extra_baggage  \\\n",
       "0            7        Sat  AKLDEL    New Zealand                    1   \n",
       "1            3        Sat  AKLDEL    New Zealand                    0   \n",
       "2           17        Wed  AKLDEL          India                    1   \n",
       "3            4        Sat  AKLDEL    New Zealand                    0   \n",
       "4           15        Wed  AKLDEL          India                    1   \n",
       "\n",
       "   wants_preferred_seat  wants_in_flight_meals  flight_duration  \\\n",
       "0                     0                      0             5.52   \n",
       "1                     0                      0             5.52   \n",
       "2                     1                      0             5.52   \n",
       "3                     0                      1             5.52   \n",
       "4                     0                      1             5.52   \n",
       "\n",
       "   booking_complete  \n",
       "0                 0  \n",
       "1                 0  \n",
       "2                 0  \n",
       "3                 0  \n",
       "4                 0  "
      ]
     },
     "execution_count": 3,
     "metadata": {},
     "output_type": "execute_result"
    }
   ],
   "source": [
    "# Checando como os dados estão\n",
    "dados.head()"
   ]
  },
  {
   "cell_type": "code",
   "execution_count": 4,
   "metadata": {},
   "outputs": [
    {
     "data": {
      "text/plain": [
       "(50000, 14)"
      ]
     },
     "execution_count": 4,
     "metadata": {},
     "output_type": "execute_result"
    }
   ],
   "source": [
    "# Verificando o tamanho do dataset\n",
    "dados.shape"
   ]
  },
  {
   "cell_type": "code",
   "execution_count": 5,
   "metadata": {},
   "outputs": [
    {
     "name": "stdout",
     "output_type": "stream",
     "text": [
      "<class 'pandas.core.frame.DataFrame'>\n",
      "RangeIndex: 50000 entries, 0 to 49999\n",
      "Data columns (total 14 columns):\n",
      " #   Column                 Non-Null Count  Dtype  \n",
      "---  ------                 --------------  -----  \n",
      " 0   num_passengers         50000 non-null  int64  \n",
      " 1   sales_channel          50000 non-null  object \n",
      " 2   trip_type              50000 non-null  object \n",
      " 3   purchase_lead          50000 non-null  int64  \n",
      " 4   length_of_stay         50000 non-null  int64  \n",
      " 5   flight_hour            50000 non-null  int64  \n",
      " 6   flight_day             50000 non-null  object \n",
      " 7   route                  50000 non-null  object \n",
      " 8   booking_origin         50000 non-null  object \n",
      " 9   wants_extra_baggage    50000 non-null  int64  \n",
      " 10  wants_preferred_seat   50000 non-null  int64  \n",
      " 11  wants_in_flight_meals  50000 non-null  int64  \n",
      " 12  flight_duration        50000 non-null  float64\n",
      " 13  booking_complete       50000 non-null  int64  \n",
      "dtypes: float64(1), int64(8), object(5)\n",
      "memory usage: 5.3+ MB\n"
     ]
    }
   ],
   "source": [
    "# Verificando a info sobre os dados\n",
    "dados.info()"
   ]
  },
  {
   "cell_type": "code",
   "execution_count": 6,
   "metadata": {},
   "outputs": [
    {
     "data": {
      "text/plain": [
       "(49281, 14)"
      ]
     },
     "execution_count": 6,
     "metadata": {},
     "output_type": "execute_result"
    }
   ],
   "source": [
    "# Verificando se há valores duplicados\n",
    "dados.drop_duplicates().shape"
   ]
  },
  {
   "cell_type": "markdown",
   "metadata": {},
   "source": [
    "## Considerações a partir da análise inicial\n",
    "\n",
    "A partir das informações iniciais, podemos entender que temos um dataset com 50 \n",
    "mil registros e 14 colunas, onde tais registros não estão atribuídos a um \n",
    "usuário em específico. Devido a essa condição, podemos observar dados duplicados.\n",
    "\n",
    "Além disso, podemos perceber que o tipo de dado da maior parte das colunas está \n",
    "coerente com o seu conteúdo, com exceção das colunas **wants_extra_baggage**, \n",
    "**wants_preferred_seat** e **wants_in_flight_meals**, que são colunas \n",
    "categóricas que foram previamente codificadas. \n",
    "\n",
    "Por último, também é possível perceber que não existem valores ausentes.\n",
    "\n",
    "O nosso target está na coluna **booking complete**."
   ]
  },
  {
   "cell_type": "markdown",
   "metadata": {},
   "source": [
    "## Aplicando correções iniciais\n",
    "\n",
    "Nesta etapa, irei apenas excluir os dados duplicados. Também será realizada a \n",
    "correção no tipo dos dados."
   ]
  },
  {
   "cell_type": "code",
   "execution_count": 7,
   "metadata": {},
   "outputs": [],
   "source": [
    "# Dropando dados duplicados\n",
    "dados = dados.drop_duplicates()"
   ]
  },
  {
   "cell_type": "code",
   "execution_count": 8,
   "metadata": {},
   "outputs": [],
   "source": [
    "# Alterando o tipo de dado da coluna 'wants_extra_baggage'\n",
    "dados['wants_extra_baggage'] = dados['wants_extra_baggage'].astype('object')"
   ]
  },
  {
   "cell_type": "code",
   "execution_count": 9,
   "metadata": {},
   "outputs": [],
   "source": [
    "# Alterando o tipo de dado da coluna 'wants_preferred_seat'\n",
    "dados['wants_preferred_seat'] = dados['wants_preferred_seat'].astype('object')"
   ]
  },
  {
   "cell_type": "code",
   "execution_count": 10,
   "metadata": {},
   "outputs": [],
   "source": [
    "# Alterando o tipo de dado da coluna 'wants_in_flight_meals'\n",
    "dados['wants_in_flight_meals'] = dados['wants_in_flight_meals'].astype('object')"
   ]
  },
  {
   "cell_type": "markdown",
   "metadata": {},
   "source": [
    "## Explorando as variáveis categóricas\n",
    "Nesta etapa, irei verificar se existem valores raros em cada coluna. Caso \n",
    "existam, será necessário uni-los em uma única categoria, pois valores raros\n",
    "podem compremeter o treinamento do modelo."
   ]
  },
  {
   "cell_type": "code",
   "execution_count": 11,
   "metadata": {},
   "outputs": [],
   "source": [
    "# Obtendo as colunas categóricas\n",
    "cat_cols = dados.select_dtypes(include='object').columns.tolist()"
   ]
  },
  {
   "cell_type": "code",
   "execution_count": 12,
   "metadata": {},
   "outputs": [
    {
     "data": {
      "text/html": [
       "<div>\n",
       "<style scoped>\n",
       "    .dataframe tbody tr th:only-of-type {\n",
       "        vertical-align: middle;\n",
       "    }\n",
       "\n",
       "    .dataframe tbody tr th {\n",
       "        vertical-align: top;\n",
       "    }\n",
       "\n",
       "    .dataframe thead th {\n",
       "        text-align: right;\n",
       "    }\n",
       "</style>\n",
       "<table border=\"1\" class=\"dataframe\">\n",
       "  <thead>\n",
       "    <tr style=\"text-align: right;\">\n",
       "      <th></th>\n",
       "      <th>sales_channel</th>\n",
       "      <th>trip_type</th>\n",
       "      <th>flight_day</th>\n",
       "      <th>route</th>\n",
       "      <th>booking_origin</th>\n",
       "      <th>wants_extra_baggage</th>\n",
       "      <th>wants_preferred_seat</th>\n",
       "      <th>wants_in_flight_meals</th>\n",
       "    </tr>\n",
       "  </thead>\n",
       "  <tbody>\n",
       "    <tr>\n",
       "      <th>0</th>\n",
       "      <td>Internet</td>\n",
       "      <td>RoundTrip</td>\n",
       "      <td>Sat</td>\n",
       "      <td>AKLDEL</td>\n",
       "      <td>New Zealand</td>\n",
       "      <td>1</td>\n",
       "      <td>0</td>\n",
       "      <td>0</td>\n",
       "    </tr>\n",
       "    <tr>\n",
       "      <th>1</th>\n",
       "      <td>Internet</td>\n",
       "      <td>RoundTrip</td>\n",
       "      <td>Sat</td>\n",
       "      <td>AKLDEL</td>\n",
       "      <td>New Zealand</td>\n",
       "      <td>0</td>\n",
       "      <td>0</td>\n",
       "      <td>0</td>\n",
       "    </tr>\n",
       "    <tr>\n",
       "      <th>2</th>\n",
       "      <td>Internet</td>\n",
       "      <td>RoundTrip</td>\n",
       "      <td>Wed</td>\n",
       "      <td>AKLDEL</td>\n",
       "      <td>India</td>\n",
       "      <td>1</td>\n",
       "      <td>1</td>\n",
       "      <td>0</td>\n",
       "    </tr>\n",
       "    <tr>\n",
       "      <th>3</th>\n",
       "      <td>Internet</td>\n",
       "      <td>RoundTrip</td>\n",
       "      <td>Sat</td>\n",
       "      <td>AKLDEL</td>\n",
       "      <td>New Zealand</td>\n",
       "      <td>0</td>\n",
       "      <td>0</td>\n",
       "      <td>1</td>\n",
       "    </tr>\n",
       "    <tr>\n",
       "      <th>4</th>\n",
       "      <td>Internet</td>\n",
       "      <td>RoundTrip</td>\n",
       "      <td>Wed</td>\n",
       "      <td>AKLDEL</td>\n",
       "      <td>India</td>\n",
       "      <td>1</td>\n",
       "      <td>0</td>\n",
       "      <td>1</td>\n",
       "    </tr>\n",
       "  </tbody>\n",
       "</table>\n",
       "</div>"
      ],
      "text/plain": [
       "  sales_channel  trip_type flight_day   route booking_origin  \\\n",
       "0      Internet  RoundTrip        Sat  AKLDEL    New Zealand   \n",
       "1      Internet  RoundTrip        Sat  AKLDEL    New Zealand   \n",
       "2      Internet  RoundTrip        Wed  AKLDEL          India   \n",
       "3      Internet  RoundTrip        Sat  AKLDEL    New Zealand   \n",
       "4      Internet  RoundTrip        Wed  AKLDEL          India   \n",
       "\n",
       "  wants_extra_baggage wants_preferred_seat wants_in_flight_meals  \n",
       "0                   1                    0                     0  \n",
       "1                   0                    0                     0  \n",
       "2                   1                    1                     0  \n",
       "3                   0                    0                     1  \n",
       "4                   1                    0                     1  "
      ]
     },
     "execution_count": 12,
     "metadata": {},
     "output_type": "execute_result"
    }
   ],
   "source": [
    "# Verificando as colunas categóricas\n",
    "dados.loc[:, cat_cols].head()"
   ]
  },
  {
   "cell_type": "code",
   "execution_count": 13,
   "metadata": {},
   "outputs": [
    {
     "data": {
      "text/plain": [
       "sales_channel\n",
       "Internet    43917\n",
       "Mobile       5364\n",
       "Name: count, dtype: int64"
      ]
     },
     "execution_count": 13,
     "metadata": {},
     "output_type": "execute_result"
    }
   ],
   "source": [
    "# Verificando se existem registros raros na coluna 'sales_channel'\n",
    "dados['sales_channel'].value_counts()"
   ]
  },
  {
   "cell_type": "code",
   "execution_count": 14,
   "metadata": {},
   "outputs": [
    {
     "data": {
      "text/plain": [
       "trip_type\n",
       "RoundTrip     48779\n",
       "OneWay          386\n",
       "CircleTrip      116\n",
       "Name: count, dtype: int64"
      ]
     },
     "execution_count": 14,
     "metadata": {},
     "output_type": "execute_result"
    }
   ],
   "source": [
    "# Verificando se existem registros raros na coluna 'trip_type'\n",
    "dados['trip_type'].value_counts()"
   ]
  },
  {
   "cell_type": "code",
   "execution_count": 15,
   "metadata": {},
   "outputs": [
    {
     "data": {
      "text/plain": [
       "flight_day\n",
       "Mon    7988\n",
       "Wed    7562\n",
       "Tue    7558\n",
       "Thu    7323\n",
       "Fri    6685\n",
       "Sun    6442\n",
       "Sat    5723\n",
       "Name: count, dtype: int64"
      ]
     },
     "execution_count": 15,
     "metadata": {},
     "output_type": "execute_result"
    }
   ],
   "source": [
    "# Verificando se existem registros raros na coluna 'flight_day'\n",
    "dados['flight_day'].value_counts()\n"
   ]
  },
  {
   "cell_type": "code",
   "execution_count": 16,
   "metadata": {},
   "outputs": [
    {
     "data": {
      "text/plain": [
       "route\n",
       "AKLKUL    2620\n",
       "PENTPE     912\n",
       "MELSGN     833\n",
       "ICNSIN     793\n",
       "DMKKIX     729\n",
       "          ... \n",
       "DACPEK       1\n",
       "CKGSGN       1\n",
       "BBIMEL       1\n",
       "AKLHGH       1\n",
       "MRUXIY       1\n",
       "Name: count, Length: 799, dtype: int64"
      ]
     },
     "execution_count": 16,
     "metadata": {},
     "output_type": "execute_result"
    }
   ],
   "source": [
    "# Verificando se existem registros raros na coluna 'route'\n",
    "dados['route'].value_counts()"
   ]
  },
  {
   "cell_type": "code",
   "execution_count": 17,
   "metadata": {},
   "outputs": [
    {
     "data": {
      "text/plain": [
       "booking_origin\n",
       "Australia      17691\n",
       "Malaysia        7055\n",
       "South Korea     4502\n",
       "Japan           3819\n",
       "China           3284\n",
       "               ...  \n",
       "Estonia            1\n",
       "Afghanistan        1\n",
       "Czechia            1\n",
       "Malta              1\n",
       "Vanuatu            1\n",
       "Name: count, Length: 104, dtype: int64"
      ]
     },
     "execution_count": 17,
     "metadata": {},
     "output_type": "execute_result"
    }
   ],
   "source": [
    "# Verificando se existem registros raros na coluna 'booking_origin'\n",
    "dados['booking_origin'].value_counts()"
   ]
  },
  {
   "cell_type": "code",
   "execution_count": 18,
   "metadata": {},
   "outputs": [
    {
     "data": {
      "text/plain": [
       "wants_extra_baggage\n",
       "1    32931\n",
       "0    16350\n",
       "Name: count, dtype: int64"
      ]
     },
     "execution_count": 18,
     "metadata": {},
     "output_type": "execute_result"
    }
   ],
   "source": [
    "# Verificando se existem registros raros na coluna 'wants_extra_baggage'\n",
    "dados['wants_extra_baggage'].value_counts()"
   ]
  },
  {
   "cell_type": "code",
   "execution_count": 19,
   "metadata": {},
   "outputs": [
    {
     "data": {
      "text/plain": [
       "wants_preferred_seat\n",
       "0    34712\n",
       "1    14569\n",
       "Name: count, dtype: int64"
      ]
     },
     "execution_count": 19,
     "metadata": {},
     "output_type": "execute_result"
    }
   ],
   "source": [
    "# Verificando se existem registros raros na coluna 'wants_preferred_seat'\n",
    "dados['wants_preferred_seat'].value_counts()"
   ]
  },
  {
   "cell_type": "code",
   "execution_count": 20,
   "metadata": {},
   "outputs": [
    {
     "data": {
      "text/plain": [
       "wants_in_flight_meals\n",
       "0    28256\n",
       "1    21025\n",
       "Name: count, dtype: int64"
      ]
     },
     "execution_count": 20,
     "metadata": {},
     "output_type": "execute_result"
    }
   ],
   "source": [
    "# Verificando se existem registros raros na coluna 'wants_in_flight_meals'\n",
    "dados['wants_in_flight_meals'].value_counts()"
   ]
  },
  {
   "cell_type": "markdown",
   "metadata": {},
   "source": [
    "## Considerações a partir da análise das variáveis categóricas\n",
    "A partir das 6 colunas categóricas, podemos observar que existem valores raros\n",
    "em duas delas: **route** e **booking_origin**. Portanto, irei agrupar os valores\n",
    "raros em uma nova categoria. Tais categorias serão agrupadas em uma única de nome\n",
    "**'others'**. Além disso, ainda é possível observar que essas features possuem \n",
    "uma alta cardinalidade, o que pode ser um problema para o treinamento do modelo."
   ]
  },
  {
   "cell_type": "markdown",
   "metadata": {},
   "source": [
    "## Corrigindo as variáveis categóricas que apresentaram problemas\n",
    "Nesta fase, os dados com menos de 4 registros serão agrupados em uma nova \n",
    "categoria."
   ]
  },
  {
   "cell_type": "markdown",
   "metadata": {},
   "source": [
    "### Booking origin"
   ]
  },
  {
   "cell_type": "code",
   "execution_count": 21,
   "metadata": {},
   "outputs": [],
   "source": [
    "# Buscando os registros que atendem ao critério de raridade\n",
    "country_booking_less_than_four = dados['booking_origin'].value_counts() < 8"
   ]
  },
  {
   "cell_type": "code",
   "execution_count": 22,
   "metadata": {},
   "outputs": [],
   "source": [
    "# Salvando em uma lista os paises que atendem ao critério de raridade\n",
    "countries = dados['booking_origin'].value_counts()[country_booking_less_than_four].index.to_list()"
   ]
  },
  {
   "cell_type": "code",
   "execution_count": 23,
   "metadata": {},
   "outputs": [],
   "source": [
    "# Criando função para substituir os registros raros por 'other'\n",
    "func_rare_registry = lambda country: 'other' if country in countries else country"
   ]
  },
  {
   "cell_type": "code",
   "execution_count": 24,
   "metadata": {},
   "outputs": [],
   "source": [
    "# Aplicando a função\n",
    "dados['booking_origin'] = dados['booking_origin'].apply(func_rare_registry)"
   ]
  },
  {
   "cell_type": "markdown",
   "metadata": {},
   "source": [
    "### Route"
   ]
  },
  {
   "cell_type": "code",
   "execution_count": 25,
   "metadata": {},
   "outputs": [],
   "source": [
    "# Buscando os registros que atendem ao critério de raridade\n",
    "route_less_than_four = dados['route'].value_counts() < 8"
   ]
  },
  {
   "cell_type": "code",
   "execution_count": 26,
   "metadata": {},
   "outputs": [],
   "source": [
    "# Salvando em uma lista os paises que atendem ao critério de raridade\n",
    "routes = dados['route'].value_counts()[route_less_than_four].index.to_list()"
   ]
  },
  {
   "cell_type": "code",
   "execution_count": 27,
   "metadata": {},
   "outputs": [],
   "source": [
    "# Criando função para substituir os registros raros por 'other'\n",
    "func_rare_registry = lambda route: 'other' if route in routes else route"
   ]
  },
  {
   "cell_type": "code",
   "execution_count": 28,
   "metadata": {},
   "outputs": [],
   "source": [
    "# Aplicando a função\n",
    "dados['route'] = dados['route'].apply(func_rare_registry)"
   ]
  },
  {
   "cell_type": "markdown",
   "metadata": {},
   "source": [
    "## Explorando as variáveis numéricas\n",
    "Na segunda parte, irei observar as variáveis numéricas para entender a \n",
    "variabilidade dos dados e se existem outliers.\n"
   ]
  },
  {
   "cell_type": "code",
   "execution_count": 29,
   "metadata": {},
   "outputs": [],
   "source": [
    "# Obtendo as colunas numéricas\n",
    "num_cols = dados.select_dtypes(['int', 'float']).columns.tolist()"
   ]
  },
  {
   "cell_type": "code",
   "execution_count": 30,
   "metadata": {},
   "outputs": [
    {
     "data": {
      "text/html": [
       "<div>\n",
       "<style scoped>\n",
       "    .dataframe tbody tr th:only-of-type {\n",
       "        vertical-align: middle;\n",
       "    }\n",
       "\n",
       "    .dataframe tbody tr th {\n",
       "        vertical-align: top;\n",
       "    }\n",
       "\n",
       "    .dataframe thead th {\n",
       "        text-align: right;\n",
       "    }\n",
       "</style>\n",
       "<table border=\"1\" class=\"dataframe\">\n",
       "  <thead>\n",
       "    <tr style=\"text-align: right;\">\n",
       "      <th></th>\n",
       "      <th>num_passengers</th>\n",
       "      <th>purchase_lead</th>\n",
       "      <th>length_of_stay</th>\n",
       "      <th>flight_hour</th>\n",
       "      <th>flight_duration</th>\n",
       "      <th>booking_complete</th>\n",
       "    </tr>\n",
       "  </thead>\n",
       "  <tbody>\n",
       "    <tr>\n",
       "      <th>0</th>\n",
       "      <td>2</td>\n",
       "      <td>262</td>\n",
       "      <td>19</td>\n",
       "      <td>7</td>\n",
       "      <td>5.52</td>\n",
       "      <td>0</td>\n",
       "    </tr>\n",
       "    <tr>\n",
       "      <th>1</th>\n",
       "      <td>1</td>\n",
       "      <td>112</td>\n",
       "      <td>20</td>\n",
       "      <td>3</td>\n",
       "      <td>5.52</td>\n",
       "      <td>0</td>\n",
       "    </tr>\n",
       "    <tr>\n",
       "      <th>2</th>\n",
       "      <td>2</td>\n",
       "      <td>243</td>\n",
       "      <td>22</td>\n",
       "      <td>17</td>\n",
       "      <td>5.52</td>\n",
       "      <td>0</td>\n",
       "    </tr>\n",
       "    <tr>\n",
       "      <th>3</th>\n",
       "      <td>1</td>\n",
       "      <td>96</td>\n",
       "      <td>31</td>\n",
       "      <td>4</td>\n",
       "      <td>5.52</td>\n",
       "      <td>0</td>\n",
       "    </tr>\n",
       "    <tr>\n",
       "      <th>4</th>\n",
       "      <td>2</td>\n",
       "      <td>68</td>\n",
       "      <td>22</td>\n",
       "      <td>15</td>\n",
       "      <td>5.52</td>\n",
       "      <td>0</td>\n",
       "    </tr>\n",
       "  </tbody>\n",
       "</table>\n",
       "</div>"
      ],
      "text/plain": [
       "   num_passengers  purchase_lead  length_of_stay  flight_hour  \\\n",
       "0               2            262              19            7   \n",
       "1               1            112              20            3   \n",
       "2               2            243              22           17   \n",
       "3               1             96              31            4   \n",
       "4               2             68              22           15   \n",
       "\n",
       "   flight_duration  booking_complete  \n",
       "0             5.52                 0  \n",
       "1             5.52                 0  \n",
       "2             5.52                 0  \n",
       "3             5.52                 0  \n",
       "4             5.52                 0  "
      ]
     },
     "execution_count": 30,
     "metadata": {},
     "output_type": "execute_result"
    }
   ],
   "source": [
    "# Verificando os dados numéricos\n",
    "dados.loc[:, num_cols].head()"
   ]
  },
  {
   "cell_type": "code",
   "execution_count": 31,
   "metadata": {},
   "outputs": [
    {
     "data": {
      "text/plain": [
       "<Axes: >"
      ]
     },
     "execution_count": 31,
     "metadata": {},
     "output_type": "execute_result"
    },
    {
     "data": {
      "image/png": "[encoded data removed]",
      "text/plain": [
       "<Figure size 640x480 with 1 Axes>"
      ]
     },
     "metadata": {},
     "output_type": "display_data"
    }
   ],
   "source": [
    "# Verificando a distribuição dos dados da coluna 'num_passengers'\n",
    "dados['num_passengers'].plot(kind='box')"
   ]
  },
  {
   "cell_type": "code",
   "execution_count": 32,
   "metadata": {},
   "outputs": [
    {
     "data": {
      "text/plain": [
       "<Axes: >"
      ]
     },
     "execution_count": 32,
     "metadata": {},
     "output_type": "execute_result"
    },
    {
     "data": {
      "image/png": "[encoded data removed]",
      "text/plain": [
       "<Figure size 640x480 with 1 Axes>"
      ]
     },
     "metadata": {},
     "output_type": "display_data"
    }
   ],
   "source": [
    "# Verificando a distribuição dos dados da coluna 'purchase_lead'\n",
    "dados['purchase_lead'].plot(kind='box')"
   ]
  },
  {
   "cell_type": "code",
   "execution_count": 33,
   "metadata": {},
   "outputs": [
    {
     "data": {
      "text/plain": [
       "<Axes: >"
      ]
     },
     "execution_count": 33,
     "metadata": {},
     "output_type": "execute_result"
    },
    {
     "data": {
      "image/png": "[encoded data removed]",
      "text/plain": [
       "<Figure size 640x480 with 1 Axes>"
      ]
     },
     "metadata": {},
     "output_type": "display_data"
    }
   ],
   "source": [
    "# Verificando a distribuição dos dados da coluna 'length_of_stay'\n",
    "dados['length_of_stay'].plot(kind='box')"
   ]
  },
  {
   "cell_type": "code",
   "execution_count": 34,
   "metadata": {},
   "outputs": [
    {
     "data": {
      "text/plain": [
       "<Axes: >"
      ]
     },
     "execution_count": 34,
     "metadata": {},
     "output_type": "execute_result"
    },
    {
     "data": {
      "image/png": "[encoded data removed]",
      "text/plain": [
       "<Figure size 640x480 with 1 Axes>"
      ]
     },
     "metadata": {},
     "output_type": "display_data"
    }
   ],
   "source": [
    "# Verificando a distribuição dos dados da coluna 'flight_hour'\n",
    "dados['flight_hour'].plot(kind='box')"
   ]
  },
  {
   "cell_type": "code",
   "execution_count": 35,
   "metadata": {},
   "outputs": [
    {
     "data": {
      "text/plain": [
       "<Axes: >"
      ]
     },
     "execution_count": 35,
     "metadata": {},
     "output_type": "execute_result"
    },
    {
     "data": {
      "image/png": "[encoded data removed]",
      "text/plain": [
       "<Figure size 640x480 with 1 Axes>"
      ]
     },
     "metadata": {},
     "output_type": "display_data"
    }
   ],
   "source": [
    "# Verificando a distribuição dos dados da coluna 'flight_duration'\n",
    "dados['flight_duration'].plot(kind='box')"
   ]
  },
  {
   "cell_type": "markdown",
   "metadata": {},
   "source": [
    "## Considerações a partir da análise das variáveis numéricas\n",
    "A partir das colunas examinadas, podemos observar que existem outliers em três\n",
    "delas. Entretanto, tais outliers aparentam ser naturais, e não provenientes de\n",
    "erros de digitação ou de coleta de dados. Portanto, não serão tratados.\n",
    "\n",
    "Além disso, os dados apresentam uma variabilidade considerável, fazendo com\n",
    "não seja necessário realizar nenhum tipo de exclusão de coluna.\n",
    "\n"
   ]
  },
  {
   "cell_type": "markdown",
   "metadata": {},
   "source": [
    "## Explorando o target\n",
    "E por último, o target será analisado para verificar se há desbalanceamento."
   ]
  },
  {
   "cell_type": "code",
   "execution_count": 36,
   "metadata": {},
   "outputs": [
    {
     "data": {
      "text/plain": [
       "booking_complete\n",
       "0    41890\n",
       "1     7391\n",
       "Name: count, dtype: int64"
      ]
     },
     "execution_count": 36,
     "metadata": {},
     "output_type": "execute_result"
    }
   ],
   "source": [
    "dados['booking_complete'].value_counts()"
   ]
  },
  {
   "cell_type": "markdown",
   "metadata": {},
   "source": [
    "## Considerações a partir da análise do target\n",
    "\n",
    "A partir da análise do target, podemos observar que o dataset está desbalanceado."
   ]
  },
  {
   "cell_type": "markdown",
   "metadata": {},
   "source": [
    "## Criando novas features\n",
    "\n",
    "Nesta fase, irei criar novas features a partir das variáveis existentes."
   ]
  },
  {
   "cell_type": "code",
   "execution_count": 37,
   "metadata": {},
   "outputs": [],
   "source": [
    "# Criando função para determinar em que parte do dia o voo ocorre\n",
    "func_time_of_day = lambda hour: 'morning' if hour >= 6 and hour < 12 else ('afternoon' if hour >= 12 and hour < 18 else 'night')\n",
    "\n",
    "# Aplicando a função\n",
    "dados['time_of_day'] = dados['flight_hour'].apply(func_time_of_day)"
   ]
  },
  {
   "cell_type": "code",
   "execution_count": 38,
   "metadata": {},
   "outputs": [],
   "source": [
    "# Calculando a hora de chegada\n",
    "dados['arrival_hour'] = dados['flight_hour'] + dados['flight_duration']"
   ]
  },
  {
   "cell_type": "code",
   "execution_count": 39,
   "metadata": {},
   "outputs": [],
   "source": [
    "# Criando função para verificar se o voo chega no mesmo dia\n",
    "func_same_day = lambda hour: 'yes' if hour <= 24 else 'no'\n",
    "\n",
    "# Aplicando a função\n",
    "dados['same_day_arrival'] = dados['arrival_hour'].apply(func_same_day)"
   ]
  },
  {
   "cell_type": "code",
   "execution_count": 40,
   "metadata": {},
   "outputs": [],
   "source": [
    "# Criando função para checar se a viagem vai ocorrer no final de semana\n",
    "func_weekend = lambda day: 'yes' if day == 'Sat' or day == 'Sun' else 'no'\n",
    "\n",
    "# Aplicando a função\n",
    "dados['weekend_trip'] = dados['flight_day'].apply(func_weekend)"
   ]
  },
  {
   "cell_type": "code",
   "execution_count": 41,
   "metadata": {},
   "outputs": [],
   "source": [
    "# Calculando o tempo de estadia em meses\n",
    "dados['length_of_stay_months'] = dados['length_of_stay'] / 30\n",
    "\n",
    "# calculando o tempo de estadia em semanas\n",
    "dados['length_of_stay_years'] = dados['length_of_stay'] / 360"
   ]
  },
  {
   "cell_type": "code",
   "execution_count": 42,
   "metadata": {},
   "outputs": [],
   "source": [
    "# Calculando a quantidade total de benefícios solicitados\n",
    "dados['total_benefits'] = dados['wants_extra_baggage'] + dados['wants_preferred_seat'] + dados['wants_in_flight_meals']\n"
   ]
  },
  {
   "cell_type": "code",
   "execution_count": 43,
   "metadata": {},
   "outputs": [],
   "source": [
    "# Calculando o lead por passageiro\n",
    "dados['lead_per_passenger'] = dados['purchase_lead'] / dados['num_passengers']"
   ]
  },
  {
   "cell_type": "code",
   "execution_count": 44,
   "metadata": {},
   "outputs": [],
   "source": [
    "# Criando listas com os países de cada continente\n",
    "# Aqui vai uma consideração: embora a maior parte do território da Rússia esteja\n",
    "# localizada na Ásia, a maior parte da população está localizada na Europa, por\n",
    "# isso a Rússia está na lista de países europeus.\n",
    "\n",
    "america = [\"Canada\", \"United States\", \"Mexico\", \"Brazil\", \"Argentina\", \n",
    "           \"Colombia\", \"Peru\", \"Venezuela\", \"Chile\", \"Ecuador\", \"Bolivia\", \n",
    "           \"Paraguay\", \"Uruguay\", \"Guyana\", \"Suriname\", \"French Guiana\", \n",
    "           \"Guatemala\", \"Honduras\", \"El Salvador\", \"Nicaragua\", \"Costa Rica\", \n",
    "           \"Panama\", \"Cuba\", \"Jamaica\", \"Haiti\", \"Dominican Republic\", \n",
    "           \"Puerto Rico\", \"Bahamas\", \"Trinidad and Tobago\", \"Barbados\", \n",
    "           \"Grenada\", \"Saint Vincent and the Grenadines\", \"Saint Lucia\", \n",
    "           \"Antigua and Barbuda\", \"Saint Kitts and Nevis\", \"Belize\", \n",
    "           \"Guadeloupe\", \"Martinique\", \"Aruba\", \"Curacao\", \"Bonaire\", \n",
    "           \"Sint Eustatius\", \"Saba\", \"Turks and Caicos Islands\", \n",
    "           \"Cayman Islands\", \"British Virgin Islands\", \n",
    "           \"United States Virgin Islands\", \"Montserrat\", \"Anguilla\", \n",
    "           \"Saint Pierre and Miquelon\", \"Greenland\", \"Bermuda\"]\n",
    "\n",
    "asia = [\"China\", \"India\", \"Indonesia\", \"Pakistan\", \"Bangladesh\", \n",
    "        \"Japan\", \"Philippines\", \"Vietnam\", \"Turkey\", \"Iran\", \"Thailand\", \n",
    "        \"Myanmar\", \"South Korea\", \"Iraq\", \"Afghanistan\", \"Uzbekistan\", \n",
    "        \"Malaysia\", \"Yemen\", \"Nepal\", \"Sri Lanka\", \"Kazakhstan\", \"Syria\", \n",
    "        \"Cambodia\", \"Jordan\", \"Azerbaijan\", \"United Arab Emirates\", \n",
    "        \"Tajikistan\", \"Israel\", \"Laos\", \"Lebanon\", \"Turkmenistan\", \n",
    "        \"Singapore\", \"Oman\", \"State of Palestine\", \"Kuwait\", \"Mongolia\", \n",
    "        \"Armenia\", \"Qatar\", \"Bahrain\", \"Timor-Leste\", \"Cyprus\", \"Bhutan\", \n",
    "        \"Maldives\", \"Brunei\", \"Northern Cyprus\", \"Taiwan\", \"Hong Kong\", \"Macao\",\n",
    "        \"Saudi Arabia\", \"Macau\", \"Myanmar (Burma)\"]\n",
    "\n",
    "europe = [\"Russia\", \"Germany\", \"United Kingdom\", \"France\", \"Italy\", \"Spain\", \n",
    "          \"Ukraine\", \"Poland\", \"Romania\", \"Netherlands\", \"Belgium\", \n",
    "          \"Czech Republic\", \"Greece\", \"Portugal\", \"Sweden\", \"Hungary\", \n",
    "          \"Belarus\", \"Austria\", \"Serbia\", \"Switzerland\", \"Bulgaria\", \"Denmark\",\n",
    "          \"Finland\", \"Slovakia\", \"Norway\", \"Ireland\", \"Croatia\", \"Moldova\", \n",
    "          \"Bosnia and Herzegovina\", \"Lithuania\", \"Albania\", \"North Macedonia\",\n",
    "          \"Slovenia\", \"Latvia\", \"Estonia\", \"Montenegro\", \"Luxembourg\", \"Malta\", \n",
    "          \"Iceland\", \"Andorra\", \"Monaco\", \"Liechtenstein\", \"San Marino\", \n",
    "          \"Vatican City\"]\n",
    "\n",
    "africa = [\"Nigeria\", \"Ethiopia\", \"Egypt\", \"Democratic Republic of the Congo\", \n",
    "          \"South Africa\", \"Tanzania\", \"Kenya\", \"Uganda\", \"Algeria\", \"Sudan\", \n",
    "          \"Morocco\", \"Angola\", \"Mozambique\", \"Ghana\", \"Madagascar\", \"Cameroon\", \n",
    "          \"Cote d'Ivoire\", \"Niger\", \"Burkina Faso\", \"Mali\", \"Malawi\", \"Zambia\", \n",
    "          \"Senegal\", \"Chad\", \"Somalia\", \"Zimbabwe\", \"Rwanda\", \"Tunisia\", \n",
    "          \"Guinea\", \"Benin\", \"Sierra Leone\", \"Libya\", \"Eritrea\", \"Togo\", \n",
    "          \"Mauritania\", \"Namibia\", \"Gambia\", \"Botswana\", \"Gabon\", \"Lesotho\", \n",
    "          \"Equatorial Guinea\", \"Seychelles\", \"Djibouti\", \"Comoros\", \n",
    "          \"Cabo Verde\", \"Sao Tome and Principe\", \"Mauritius\", \"Réunion\"]\n",
    "\n",
    "oceania = [\"Australia\", \"Papua New Guinea\", \"New Zealand\", \"Fiji\", \n",
    "           \"Solomon Islands\", \"Vanuatu\", \"Samoa\", \"Kiribati\", \"Tonga\", \n",
    "           \"Tuvalu\", \"Nauru\", \"Marshall Islands\", \"Palau\", \"Micronesia\", \n",
    "           \"Federated States of Micronesia\"]\n",
    "\n",
    "# Criando função para determinar o continente de cada país\n",
    "func_continent = lambda country: 'america' if country in america else ('asia' if country in asia else ('europe' if country in europe else ('africa' if country in africa else ('oceania' if country in oceania else 'other'))))\n",
    "\n",
    "# Aplicando a função\n",
    "dados['continent_booking_origin'] = dados['booking_origin'].apply(func_continent)"
   ]
  },
  {
   "cell_type": "code",
   "execution_count": 45,
   "metadata": {},
   "outputs": [],
   "source": [
    "# Criando função para determinar se a pessoa irá viajar sozinha ou não\n",
    "func_solo_flight = lambda passengers: 'yes' if passengers == 1 else 'no'\n",
    "\n",
    "# Aplicando a função\n",
    "dados['solo_flight'] = dados['num_passengers'].apply(func_solo_flight) "
   ]
  },
  {
   "cell_type": "code",
   "execution_count": 46,
   "metadata": {},
   "outputs": [],
   "source": [
    "# Criando função para buscar a cidade de origem\n",
    "func_origin_city = lambda route: route if route == \"other\" else route[0:3]\n",
    "func_destiny_city = lambda route: route if route == \"other\" else route[3:6]\n",
    "\n",
    "# Buscando a cidade de origem e a de destino\n",
    "dados['Origin_City'] = dados.route.apply(func_origin_city)\n",
    "dados['Destiny_City'] = dados.route.apply(func_destiny_city)"
   ]
  },
  {
   "cell_type": "code",
   "execution_count": 47,
   "metadata": {},
   "outputs": [],
   "source": [
    "# Criando função para determinar em que parte do dia o voo ocorre\n",
    "func_time_of_day = lambda hour: 'morning' if hour >= 6 and hour < 12 else ('afternoon' if hour >= 12 and hour < 18 else 'night')\n",
    "\n",
    "# Aplicando a função\n",
    "dados['time_of_day'] = dados['flight_hour'].apply(func_time_of_day)\n",
    "\n",
    "# Calculando a hora de chegada\n",
    "dados['arrival_hour'] = dados['flight_hour'] + dados['flight_duration']\n",
    "\n",
    "# Criando função para verificar se o voo chega no mesmo dia\n",
    "func_same_day = lambda hour: 'yes' if hour <= 24 else 'no'\n",
    "\n",
    "# Aplicando a função\n",
    "dados['same_day_arrival'] = dados['arrival_hour'].apply(func_same_day)\n",
    "\n",
    "# Criando função para checar se a viagem vai ocorrer no final de semana\n",
    "func_weekend = lambda day: 'yes' if day == 'Sat' or day == 'Sun' else 'no'\n",
    "\n",
    "# Aplicando a função\n",
    "dados['weekend_trip'] = dados['flight_day'].apply(func_weekend)\n",
    "\n",
    "# Calculando o tempo de estadia em meses\n",
    "dados['length_of_stay_months'] = dados['length_of_stay'] / 30\n",
    "\n",
    "# calculando o tempo de estadia em semanas\n",
    "dados['length_of_stay_years'] = dados['length_of_stay'] / 360\n",
    "\n",
    "# Calculando a quantidade total de benefícios solicitados\n",
    "dados['total_benefits'] = dados['wants_extra_baggage'] + dados['wants_preferred_seat'] + dados['wants_in_flight_meals']\n",
    "\n",
    "# Calculando o lead por passageiro\n",
    "dados['lead_per_passenger'] = dados['purchase_lead'] / dados['num_passengers']\n",
    "\n",
    "# Criando listas com os países de cada continente\n",
    "# Aqui vai uma consideração: embora a maior parte do território da Rússia \n",
    "# esteja localizada na Ásia, a maior parte da população está localizada na \n",
    "# Europa, por isso a Rússia está na lista de países europeus.\n",
    "\n",
    "america = [\"Canada\", \"United States\", \"Mexico\", \"Brazil\", \"Argentina\", \n",
    "           \"Colombia\", \"Peru\", \"Venezuela\", \"Chile\", \"Ecuador\", \"Bolivia\", \n",
    "           \"Paraguay\", \"Uruguay\", \"Guyana\", \"Suriname\", \"French Guiana\", \n",
    "           \"Guatemala\", \"Honduras\", \"El Salvador\", \"Nicaragua\", \"Costa Rica\", \n",
    "           \"Panama\", \"Cuba\", \"Jamaica\", \"Haiti\", \"Dominican Republic\", \n",
    "           \"Puerto Rico\", \"Bahamas\", \"Trinidad and Tobago\", \"Barbados\", \n",
    "           \"Grenada\", \"Saint Vincent and the Grenadines\", \"Saint Lucia\", \n",
    "           \"Antigua and Barbuda\", \"Saint Kitts and Nevis\", \"Belize\", \n",
    "           \"Guadeloupe\", \"Martinique\", \"Aruba\", \"Curacao\", \"Bonaire\", \n",
    "           \"Sint Eustatius\", \"Saba\", \"Turks and Caicos Islands\", \n",
    "           \"Cayman Islands\", \"British Virgin Islands\", \n",
    "           \"United States Virgin Islands\", \"Montserrat\", \"Anguilla\", \n",
    "           \"Saint Pierre and Miquelon\", \"Greenland\", \"Bermuda\"]\n",
    "\n",
    "asia = [\"China\", \"India\", \"Indonesia\", \"Pakistan\", \"Bangladesh\", \n",
    "        \"Japan\", \"Philippines\", \"Vietnam\", \"Turkey\", \"Iran\", \"Thailand\", \n",
    "        \"Myanmar\", \"South Korea\", \"Iraq\", \"Afghanistan\", \"Uzbekistan\", \n",
    "        \"Malaysia\", \"Yemen\", \"Nepal\", \"Sri Lanka\", \"Kazakhstan\", \"Syria\", \n",
    "        \"Cambodia\", \"Jordan\", \"Azerbaijan\", \"United Arab Emirates\", \n",
    "        \"Tajikistan\", \"Israel\", \"Laos\", \"Lebanon\", \"Turkmenistan\", \n",
    "        \"Singapore\", \"Oman\", \"State of Palestine\", \"Kuwait\", \"Mongolia\", \n",
    "        \"Armenia\", \"Qatar\", \"Bahrain\", \"Timor-Leste\", \"Cyprus\", \"Bhutan\", \n",
    "        \"Maldives\", \"Brunei\", \"Northern Cyprus\", \"Taiwan\", \"Hong Kong\", \"Macao\",\n",
    "        \"Saudi Arabia\", \"Macau\", \"Myanmar (Burma)\"]\n",
    "\n",
    "europe = [\"Russia\", \"Germany\", \"United Kingdom\", \"France\", \"Italy\", \"Spain\", \n",
    "          \"Ukraine\", \"Poland\", \"Romania\", \"Netherlands\", \"Belgium\", \n",
    "          \"Czech Republic\", \"Greece\", \"Portugal\", \"Sweden\", \"Hungary\", \n",
    "          \"Belarus\", \"Austria\", \"Serbia\", \"Switzerland\", \"Bulgaria\", \"Denmark\",\n",
    "          \"Finland\", \"Slovakia\", \"Norway\", \"Ireland\", \"Croatia\", \"Moldova\", \n",
    "          \"Bosnia and Herzegovina\", \"Lithuania\", \"Albania\", \"North Macedonia\",\n",
    "          \"Slovenia\", \"Latvia\", \"Estonia\", \"Montenegro\", \"Luxembourg\", \"Malta\", \n",
    "          \"Iceland\", \"Andorra\", \"Monaco\", \"Liechtenstein\", \"San Marino\", \n",
    "          \"Vatican City\"]\n",
    "\n",
    "africa = [\"Nigeria\", \"Ethiopia\", \"Egypt\", \"Democratic Republic of the Congo\", \n",
    "          \"South Africa\", \"Tanzania\", \"Kenya\", \"Uganda\", \"Algeria\", \"Sudan\", \n",
    "          \"Morocco\", \"Angola\", \"Mozambique\", \"Ghana\", \"Madagascar\", \"Cameroon\", \n",
    "          \"Cote d'Ivoire\", \"Niger\", \"Burkina Faso\", \"Mali\", \"Malawi\", \"Zambia\", \n",
    "          \"Senegal\", \"Chad\", \"Somalia\", \"Zimbabwe\", \"Rwanda\", \"Tunisia\", \n",
    "          \"Guinea\", \"Benin\", \"Sierra Leone\", \"Libya\", \"Eritrea\", \"Togo\", \n",
    "          \"Mauritania\", \"Namibia\", \"Gambia\", \"Botswana\", \"Gabon\", \"Lesotho\", \n",
    "          \"Equatorial Guinea\", \"Seychelles\", \"Djibouti\", \"Comoros\", \n",
    "          \"Cabo Verde\", \"Sao Tome and Principe\", \"Mauritius\", \"Réunion\"]\n",
    "\n",
    "oceania = [\"Australia\", \"Papua New Guinea\", \"New Zealand\", \"Fiji\", \n",
    "           \"Solomon Islands\", \"Vanuatu\", \"Samoa\", \"Kiribati\", \"Tonga\", \n",
    "           \"Tuvalu\", \"Nauru\", \"Marshall Islands\", \"Palau\", \"Micronesia\", \n",
    "           \"Federated States of Micronesia\"]\n",
    "\n",
    "# Criando função para determinar o continente de cada país\n",
    "func_continent = lambda country: 'america' if country in america else ('asia' if country in asia else ('europe' if country in europe else ('africa' if country in africa else ('oceania' if country in oceania else 'other'))))\n",
    "\n",
    "# Aplicando a função\n",
    "dados['continent_booking_origin'] = dados['booking_origin'].apply(func_continent)\n",
    "\n",
    "# Criando função para determinar se a pessoa irá viajar sozinha ou não\n",
    "func_solo_flight = lambda passengers: 'yes' if passengers == 1 else 'no'\n",
    "\n",
    "# Aplicando a função\n",
    "dados['solo_flight'] = dados['num_passengers'].apply(func_solo_flight)\n",
    "\n",
    "# Criando função para buscar a cidade de origem\n",
    "func_origin_city = lambda route: route if route == \"other\" else route[0:3]\n",
    "func_destiny_city = lambda route: route if route == \"other\" else route[3:6]\n",
    "\n",
    "# Buscando a cidade de origem e a de destino\n",
    "dados['Origin_City'] = dados.route.apply(func_origin_city)\n",
    "dados['Destiny_City'] = dados.route.apply(func_destiny_city)\n",
    "\n",
    "# Como última consideração, criamos novos dados com as colunas que possuíam\n",
    "# alta cardinalidade, por isso, essas colunas também serão incluídas no\n",
    "# pipeline que será tratado com o CountEncoder"
   ]
  },
  {
   "cell_type": "markdown",
   "metadata": {},
   "source": [
    "## Salvando os dados"
   ]
  },
  {
   "cell_type": "code",
   "execution_count": 48,
   "metadata": {},
   "outputs": [],
   "source": [
    "# Salvando os dados transformados\n",
    "dados.to_csv('../data/processed/customer_booking_processed.csv', index=False)"
   ]
  },
  {
   "cell_type": "markdown",
   "metadata": {},
   "source": [
    "# Experimentação\n",
    "Aqui, irei realizar a experimentação para encontrar o melhor modelo para o\n",
    "problema em questão. \n",
    "\n",
    "Inicialmente, irei testar um modelo de classificação que é sensível a\n",
    "escala dos dados: a **Logistic Regression**. Em seguida, irei incluir \n",
    "os modelos baseados em árvore: **Decision Tree**, **Random Forest**, \n",
    "**AdaBoost** e **LightGBM**.\n",
    "\n",
    "Como métrica de avaliação, irei usar a **AUC**. Além disso, irei usar a\n",
    "Cross Validation para avaliar a performance dos modelos, registrando o \n",
    "desempenho de cada fold e a média final.\n",
    "\n",
    "Para acessar uma interface com os experimentos, digite o comando abaixo no terminal:\n",
    "\n",
    "```mlflow ui```"
   ]
  },
  {
   "cell_type": "markdown",
   "metadata": {},
   "source": [
    "## Experimentando modelos diversos\n",
    "Nesta fase, irei testar os modelos acima com diferentes tipos de encoders, \n",
    "scalers e transformers, resgistrando tudo no MLFlow."
   ]
  },
  {
   "cell_type": "code",
   "execution_count": 49,
   "metadata": {},
   "outputs": [
    {
     "data": {
      "text/plain": [
       "<Experiment: artifact_location='/home/daniel/Documents/British_Airways/notebooks/../mlruns/363386585916087131', creation_time=1696358688041, experiment_id='363386585916087131', last_update_time=1696358688041, lifecycle_stage='active', name='Comparando modelos', tags={}>"
      ]
     },
     "execution_count": 49,
     "metadata": {},
     "output_type": "execute_result"
    }
   ],
   "source": [
    "# Define o local para salvar os exoerimentos\n",
    "mlflow.set_tracking_uri('../mlruns')\n",
    "\n",
    "# Criando/acessando o experimento\n",
    "mlflow.set_experiment('Comparando modelos')"
   ]
  },
  {
   "cell_type": "code",
   "execution_count": 50,
   "metadata": {},
   "outputs": [],
   "source": [
    "# Dividindo os dados em variáveis dependentes e independentes\n",
    "x = dados.drop(columns='booking_complete')\n",
    "y = dados['booking_complete']\n",
    "\n",
    "# Dividindo os dados em treino e teste\n",
    "x_treino, x_teste, y_treino, y_teste = train_test_split(x,\n",
    "                                                        y,\n",
    "                                                        test_size=0.20,\n",
    "                                                        random_state=200)\n",
    "\n",
    "# Dividindo os dados em teste e calibração\n",
    "x_teste, x_calib, y_teste, y_calib = train_test_split(x_teste,\n",
    "                                                      y_teste,\n",
    "                                                      test_size=0.25,\n",
    "                                                      random_state=200)\n",
    "\n",
    "# Dividindo os dados em dev e teste\n",
    "x_dev, x_teste, y_dev, y_teste = train_test_split(x_teste,\n",
    "                                                  y_teste,\n",
    "                                                  test_size=0.50,\n",
    "                                                  random_state=200)"
   ]
  },
  {
   "cell_type": "code",
   "execution_count": 51,
   "metadata": {},
   "outputs": [],
   "source": [
    "# Obtendo as colunas com alta dimensionalidade\n",
    "high_dim_cols = ['route', 'booking_origin', 'Destiny_City', 'Origin_City']\n",
    "\n",
    "# Obtendo as colunas categóricas\n",
    "cat_cols = x.select_dtypes(include='object').columns.tolist()\n",
    "cat_cols = [col for col in cat_cols if col not in high_dim_cols]\n",
    "\n",
    "# Obtendo as colunas numéricas\n",
    "num_cols = x.select_dtypes(['int', 'float']).columns.tolist()\n",
    "\n",
    "# Instanciando um KFold Estratificado\n",
    "kf = StratifiedKFold(n_splits=5, shuffle=True, random_state=200) "
   ]
  },
  {
   "cell_type": "code",
   "execution_count": 52,
   "metadata": {},
   "outputs": [],
   "source": [
    "# Criando um scaler padrão\n",
    "scale = y_treino.value_counts()[0] / y_treino.value_counts()[1] \n",
    "\n",
    "# Criando dicionário com os modelos\n",
    "dict_models_scale_sensitive = {\"LR\": LogisticRegression(random_state=200,\n",
    "                                                        class_weight='balanced')}\n",
    "\n",
    "dict_models_tree_based = {\"LGBM\": LGBMClassifier(is_unbalance=True,\n",
    "                                                 random_state=200),\n",
    "                          \"XGB\": XGBClassifier(scale_pos_weight=scale,\n",
    "                                               random_state=200),\n",
    "                          \"CTBC\": CatBoostClassifier(auto_class_weights='Balanced',\n",
    "                                                     random_state=200),\n",
    "                          \"DT\": DecisionTreeClassifier(class_weight='balanced',\n",
    "                                                       random_state=200),\n",
    "                          \"RF\": RandomForestClassifier(class_weight='balanced',\n",
    "                                                       random_state=200)}\n",
    "\n",
    "# Criando dicionário com os encoders\n",
    "dict_encoders = {\"OHE\": OneHotEncoder(drop='first'),\n",
    "                 \"TE\": ce.TargetEncoder(),\n",
    "                 \"BE\": ce.BinaryEncoder(),\n",
    "                 \"ME\": ce.MEstimateEncoder(),\n",
    "                 \"WOE\": ce.WOEEncoder(),\n",
    "                 \"CE\": ce.CatBoostEncoder(),\n",
    "                 \"GE\":ce.GrayEncoder()}\n",
    "\n",
    "dict_scalers = {\"SS\": StandardScaler(),\n",
    "                \"RS\": RobustScaler()}\n",
    "\n",
    "# Criando dicionário com os transformers\n",
    "dict_transformers = {\"PT\": PowerTransformer(),\n",
    "                     \"PF\": PolynomialFeatures()}"
   ]
  },
  {
   "cell_type": "code",
   "execution_count": 53,
   "metadata": {},
   "outputs": [],
   "source": [
    "# Iniciando os experimentos sem transformers\n",
    "for tag, model in dict_models_scale_sensitive.items():\n",
    "    for tag_encoder, encoder in dict_encoders.items():\n",
    "        for tag_scaler, scaler in dict_scalers.items():\n",
    "            \n",
    "            # Gerando a tag de identificação do modelo\n",
    "            nome_modelo = f'{tag}_{tag_encoder}_{tag_scaler}'\n",
    "            \n",
    "            with mlflow.start_run(run_name=nome_modelo):\n",
    "                 \n",
    "                 # Criando os pipeline com os transformers\n",
    "                 pipe_cat = Pipeline([('encoder', encoder)])\n",
    "                 pipe_high_dim = Pipeline([('encoder', ce.CountEncoder())])\n",
    "                 pipe_num = Pipeline([('scaler', scaler)])\n",
    "                 \n",
    "                 # Criando o transformador\n",
    "                 transformer = ColumnTransformer([('cat', pipe_cat, cat_cols),\n",
    "                                                 ('num', pipe_num, num_cols),\n",
    "                                                 ('high_dim', pipe_high_dim, high_dim_cols)])\n",
    "                 \n",
    "                 # Criando o pipeline final\n",
    "                 pipe = Pipeline([('transformer', transformer),\n",
    "                                  ('remove_corr', DropCorrelatedFeatures()),\n",
    "                                  ('remove_const', DropConstantFeatures()),\n",
    "                                 ('model', model)])\n",
    "                 \n",
    "                 # Executando o cross validation\n",
    "                 cross_val_scores = cross_val_score(pipe, x_treino, y_treino, cv=kf, scoring='neg_log_loss')\n",
    "                 \n",
    "                 # Calculando a média das métricas\n",
    "                 mean_score = cross_val_scores.mean()           \n",
    "                 \n",
    "                 # Salvando a métrica da folder 1\n",
    "                 mlflow.log_metric('log_loss_fold_1', cross_val_scores[0])\n",
    "                 \n",
    "                 # Salvando a métrica da folder 2\n",
    "                 mlflow.log_metric('log_loss_fold_2', cross_val_scores[1])\n",
    "                \n",
    "                 # Salvando a métrica da folder 3\n",
    "                 mlflow.log_metric('log_loss_fold_3', cross_val_scores[2])\n",
    "                \n",
    "                 # Salvando a métrica da folder 4\n",
    "                 mlflow.log_metric('log_loss_fold_4', cross_val_scores[3])\n",
    "                \n",
    "                 # Salvando a métrica da folder 5\n",
    "                 mlflow.log_metric('log_loss_fold_5', cross_val_scores[4])\n",
    "                 \n",
    "                 # Salvando as métricas\n",
    "                 mlflow.log_metric('log_loss_mean', mean_score)"
   ]
  },
  {
   "cell_type": "code",
   "execution_count": 54,
   "metadata": {},
   "outputs": [],
   "source": [
    "# Iniciando os experimentos com transformers\n",
    "for tag, model in dict_models_scale_sensitive.items():\n",
    "    for tag_encoder, encoder in dict_encoders.items():\n",
    "        for tag_scaler, scaler in dict_scalers.items():\n",
    "            for tag_transformer, transformer in dict_transformers.items():\n",
    "            \n",
    "                # Gerando a tag de identificação do modelo\n",
    "                nome_modelo = f'{tag}_{tag_encoder}_{tag_scaler}_{tag_transformer}'\n",
    "\n",
    "                with mlflow.start_run(run_name=nome_modelo):\n",
    "\n",
    "                     # Criando os pipeline com os transformers\n",
    "                     pipe_cat = Pipeline([('encoder', encoder)])\n",
    "                     pipe_high_dim = Pipeline([('encoder', ce.CountEncoder())])\n",
    "                     pipe_num = Pipeline([('scaler', scaler),\n",
    "                                          ('transformer', transformer)])\n",
    "\n",
    "                     # Criando o transformador\n",
    "                     transformer = ColumnTransformer([('cat', pipe_cat, cat_cols),\n",
    "                                                     ('num', pipe_num, num_cols),\n",
    "                                                     ('high_dim', pipe_high_dim, high_dim_cols)])\n",
    "\n",
    "                     # Criando o pipeline final\n",
    "                     pipe = Pipeline([('transformer', transformer),\n",
    "                                     ('remove_corr', DropCorrelatedFeatures()),\n",
    "                                     ('remove_const', DropConstantFeatures()),\n",
    "                                     ('model', model)])\n",
    "\n",
    "                     # Executando o cross validation\n",
    "                     cross_val_scores = cross_val_score(pipe, x_treino, y_treino, cv=kf, scoring='neg_log_loss')\n",
    "\n",
    "                     # Calculando a média das métricas\n",
    "                     mean_score = cross_val_scores.mean()         \n",
    "\n",
    "                     # Salvando a métrica da folder 1\n",
    "                     mlflow.log_metric('log_loss_fold_1', cross_val_scores[0])\n",
    "\n",
    "                     # Salvando a métrica da folder 2\n",
    "                     mlflow.log_metric('log_loss_fold_2', cross_val_scores[1])\n",
    "\n",
    "                     # Salvando a métrica da folder 3\n",
    "                     mlflow.log_metric('log_loss_fold_3', cross_val_scores[2])\n",
    "\n",
    "                     # Salvando a métrica da folder 4\n",
    "                     mlflow.log_metric('log_loss_fold_4', cross_val_scores[3])\n",
    "\n",
    "                     # Salvando a métrica da folder 5\n",
    "                     mlflow.log_metric('log_loss_fold_5', cross_val_scores[4])\n",
    "\n",
    "                     # Salvando as métricas\n",
    "                     mlflow.log_metric('log_loss_mean', mean_score)"
   ]
  },
  {
   "cell_type": "code",
   "execution_count": 55,
   "metadata": {},
   "outputs": [],
   "source": [
    "# Iniciando os experimentos sem transformers\n",
    "for tag, model in dict_models_tree_based.items():\n",
    "    for tag_encoder, encoder in dict_encoders.items():\n",
    "            \n",
    "            # Gerando a tag de identificação do modelo\n",
    "            nome_modelo = f'{tag}_{tag_encoder}'\n",
    "            \n",
    "            with mlflow.start_run(run_name=nome_modelo):\n",
    "                 \n",
    "                 # Criando os pipeline com os transformers\n",
    "                 pipe_cat = Pipeline([('encoder', encoder)])\n",
    "                 pipe_high_dim = Pipeline([('encoder', ce.CountEncoder())])\n",
    "                 \n",
    "                 # Criando o transformador\n",
    "                 transformer = ColumnTransformer([('cat', pipe_cat, cat_cols),\n",
    "                                                 ('high_dim', pipe_high_dim, high_dim_cols)])\n",
    "                 \n",
    "                 # Criando o pipeline final\n",
    "                 pipe = Pipeline([('transformer', transformer),\n",
    "                                 ('remove_corr', DropCorrelatedFeatures()),\n",
    "                                 ('remove_const', DropConstantFeatures()),\n",
    "                                 ('model', model)])\n",
    "                 \n",
    "                 # Executando o cross validation\n",
    "                 cross_val_scores = cross_val_score(pipe, x_treino, y_treino, cv=kf, scoring='neg_log_loss')\n",
    "                 \n",
    "                 # Calculando a média das métricas\n",
    "                 mean_score = cross_val_scores.mean()         \n",
    "                 \n",
    "                 # Salvando a métrica da folder 1\n",
    "                 mlflow.log_metric('log_loss_fold_1', cross_val_scores[0])\n",
    "                 \n",
    "                 # Salvando a métrica da folder 2\n",
    "                 mlflow.log_metric('log_loss_fold_2', cross_val_scores[1])\n",
    "                \n",
    "                 # Salvando a métrica da folder 3\n",
    "                 mlflow.log_metric('log_loss_fold_3', cross_val_scores[2])\n",
    "                \n",
    "                 # Salvando a métrica da folder 4\n",
    "                 mlflow.log_metric('log_loss_fold_4', cross_val_scores[3])\n",
    "                \n",
    "                 # Salvando a métrica da folder 5\n",
    "                 mlflow.log_metric('log_loss_fold_5', cross_val_scores[4])\n",
    "                 \n",
    "                 # Salvando as métricas\n",
    "                 mlflow.log_metric('log_loss_mean', mean_score)"
   ]
  },
  {
   "cell_type": "code",
   "execution_count": 56,
   "metadata": {},
   "outputs": [],
   "source": [
    "# Salvando os resultados\n",
    "resultados_experimentos = mlflow.search_runs()"
   ]
  },
  {
   "cell_type": "code",
   "execution_count": 57,
   "metadata": {},
   "outputs": [],
   "source": [
    "# Calculando o tempo de treinamento\n",
    "resultados_experimentos['tempo_de_treino'] = (resultados_experimentos['end_time'] - resultados_experimentos['start_time']).dt.total_seconds()"
   ]
  },
  {
   "cell_type": "code",
   "execution_count": 58,
   "metadata": {},
   "outputs": [
    {
     "data": {
      "text/html": [
       "<div>\n",
       "<style scoped>\n",
       "    .dataframe tbody tr th:only-of-type {\n",
       "        vertical-align: middle;\n",
       "    }\n",
       "\n",
       "    .dataframe tbody tr th {\n",
       "        vertical-align: top;\n",
       "    }\n",
       "\n",
       "    .dataframe thead th {\n",
       "        text-align: right;\n",
       "    }\n",
       "</style>\n",
       "<table border=\"1\" class=\"dataframe\">\n",
       "  <thead>\n",
       "    <tr style=\"text-align: right;\">\n",
       "      <th></th>\n",
       "      <th>tags.mlflow.runName</th>\n",
       "      <th>tempo_de_treino</th>\n",
       "      <th>metrics.log_loss_fold_1</th>\n",
       "      <th>metrics.log_loss_fold_2</th>\n",
       "      <th>metrics.log_loss_fold_3</th>\n",
       "      <th>metrics.log_loss_fold_4</th>\n",
       "      <th>metrics.log_loss_fold_5</th>\n",
       "      <th>metrics.log_loss_mean</th>\n",
       "    </tr>\n",
       "  </thead>\n",
       "  <tbody>\n",
       "    <tr>\n",
       "      <th>1</th>\n",
       "      <td>RF_CE</td>\n",
       "      <td>160.101</td>\n",
       "      <td>-0.421045</td>\n",
       "      <td>-0.413133</td>\n",
       "      <td>-0.405291</td>\n",
       "      <td>-0.406168</td>\n",
       "      <td>-0.415593</td>\n",
       "      <td>-0.412246</td>\n",
       "    </tr>\n",
       "    <tr>\n",
       "      <th>22</th>\n",
       "      <td>XGB_CE</td>\n",
       "      <td>9.470</td>\n",
       "      <td>-0.528475</td>\n",
       "      <td>-0.493289</td>\n",
       "      <td>-0.473861</td>\n",
       "      <td>-0.532554</td>\n",
       "      <td>-0.479829</td>\n",
       "      <td>-0.501602</td>\n",
       "    </tr>\n",
       "    <tr>\n",
       "      <th>27</th>\n",
       "      <td>XGB_OHE</td>\n",
       "      <td>27.081</td>\n",
       "      <td>-0.532486</td>\n",
       "      <td>-0.549544</td>\n",
       "      <td>-0.520802</td>\n",
       "      <td>-0.523139</td>\n",
       "      <td>-0.539450</td>\n",
       "      <td>-0.533084</td>\n",
       "    </tr>\n",
       "    <tr>\n",
       "      <th>25</th>\n",
       "      <td>XGB_BE</td>\n",
       "      <td>10.083</td>\n",
       "      <td>-0.533754</td>\n",
       "      <td>-0.552356</td>\n",
       "      <td>-0.518080</td>\n",
       "      <td>-0.528672</td>\n",
       "      <td>-0.541395</td>\n",
       "      <td>-0.534851</td>\n",
       "    </tr>\n",
       "    <tr>\n",
       "      <th>24</th>\n",
       "      <td>XGB_ME</td>\n",
       "      <td>20.845</td>\n",
       "      <td>-0.532965</td>\n",
       "      <td>-0.550526</td>\n",
       "      <td>-0.521841</td>\n",
       "      <td>-0.526138</td>\n",
       "      <td>-0.543261</td>\n",
       "      <td>-0.534946</td>\n",
       "    </tr>\n",
       "    <tr>\n",
       "      <th>...</th>\n",
       "      <td>...</td>\n",
       "      <td>...</td>\n",
       "      <td>...</td>\n",
       "      <td>...</td>\n",
       "      <td>...</td>\n",
       "      <td>...</td>\n",
       "      <td>...</td>\n",
       "      <td>...</td>\n",
       "    </tr>\n",
       "    <tr>\n",
       "      <th>9</th>\n",
       "      <td>DT_WOE</td>\n",
       "      <td>9.564</td>\n",
       "      <td>-6.648296</td>\n",
       "      <td>-6.768807</td>\n",
       "      <td>-6.619004</td>\n",
       "      <td>-6.603826</td>\n",
       "      <td>-6.655793</td>\n",
       "      <td>-6.659145</td>\n",
       "    </tr>\n",
       "    <tr>\n",
       "      <th>12</th>\n",
       "      <td>DT_TE</td>\n",
       "      <td>11.458</td>\n",
       "      <td>-6.648296</td>\n",
       "      <td>-6.768807</td>\n",
       "      <td>-6.619004</td>\n",
       "      <td>-6.678374</td>\n",
       "      <td>-6.655793</td>\n",
       "      <td>-6.674055</td>\n",
       "    </tr>\n",
       "    <tr>\n",
       "      <th>10</th>\n",
       "      <td>DT_ME</td>\n",
       "      <td>9.416</td>\n",
       "      <td>-6.648296</td>\n",
       "      <td>-6.768807</td>\n",
       "      <td>-6.619004</td>\n",
       "      <td>-6.678374</td>\n",
       "      <td>-6.655793</td>\n",
       "      <td>-6.674055</td>\n",
       "    </tr>\n",
       "    <tr>\n",
       "      <th>7</th>\n",
       "      <td>DT_GE</td>\n",
       "      <td>11.590</td>\n",
       "      <td>-6.644926</td>\n",
       "      <td>-6.884969</td>\n",
       "      <td>-6.787818</td>\n",
       "      <td>-6.693758</td>\n",
       "      <td>-6.478787</td>\n",
       "      <td>-6.698051</td>\n",
       "    </tr>\n",
       "    <tr>\n",
       "      <th>8</th>\n",
       "      <td>DT_CE</td>\n",
       "      <td>17.250</td>\n",
       "      <td>-8.538940</td>\n",
       "      <td>-7.560711</td>\n",
       "      <td>-8.095537</td>\n",
       "      <td>-8.845209</td>\n",
       "      <td>-8.114851</td>\n",
       "      <td>-8.231049</td>\n",
       "    </tr>\n",
       "  </tbody>\n",
       "</table>\n",
       "<p>77 rows × 8 columns</p>\n",
       "</div>"
      ],
      "text/plain": [
       "   tags.mlflow.runName  tempo_de_treino  metrics.log_loss_fold_1  \\\n",
       "1                RF_CE          160.101                -0.421045   \n",
       "22              XGB_CE            9.470                -0.528475   \n",
       "27             XGB_OHE           27.081                -0.532486   \n",
       "25              XGB_BE           10.083                -0.533754   \n",
       "24              XGB_ME           20.845                -0.532965   \n",
       "..                 ...              ...                      ...   \n",
       "9               DT_WOE            9.564                -6.648296   \n",
       "12               DT_TE           11.458                -6.648296   \n",
       "10               DT_ME            9.416                -6.648296   \n",
       "7                DT_GE           11.590                -6.644926   \n",
       "8                DT_CE           17.250                -8.538940   \n",
       "\n",
       "    metrics.log_loss_fold_2  metrics.log_loss_fold_3  metrics.log_loss_fold_4  \\\n",
       "1                 -0.413133                -0.405291                -0.406168   \n",
       "22                -0.493289                -0.473861                -0.532554   \n",
       "27                -0.549544                -0.520802                -0.523139   \n",
       "25                -0.552356                -0.518080                -0.528672   \n",
       "24                -0.550526                -0.521841                -0.526138   \n",
       "..                      ...                      ...                      ...   \n",
       "9                 -6.768807                -6.619004                -6.603826   \n",
       "12                -6.768807                -6.619004                -6.678374   \n",
       "10                -6.768807                -6.619004                -6.678374   \n",
       "7                 -6.884969                -6.787818                -6.693758   \n",
       "8                 -7.560711                -8.095537                -8.845209   \n",
       "\n",
       "    metrics.log_loss_fold_5  metrics.log_loss_mean  \n",
       "1                 -0.415593              -0.412246  \n",
       "22                -0.479829              -0.501602  \n",
       "27                -0.539450              -0.533084  \n",
       "25                -0.541395              -0.534851  \n",
       "24                -0.543261              -0.534946  \n",
       "..                      ...                    ...  \n",
       "9                 -6.655793              -6.659145  \n",
       "12                -6.655793              -6.674055  \n",
       "10                -6.655793              -6.674055  \n",
       "7                 -6.478787              -6.698051  \n",
       "8                 -8.114851              -8.231049  \n",
       "\n",
       "[77 rows x 8 columns]"
      ]
     },
     "execution_count": 58,
     "metadata": {},
     "output_type": "execute_result"
    }
   ],
   "source": [
    "# Ordenando as colunas pela métrica\n",
    "colunas = ['tags.mlflow.runName', 'tempo_de_treino', 'metrics.log_loss_fold_1', \n",
    "           'metrics.log_loss_fold_2', 'metrics.log_loss_fold_3', \n",
    "           'metrics.log_loss_fold_4', 'metrics.log_loss_fold_5', \n",
    "           'metrics.log_loss_mean']\n",
    "\n",
    "resultados_experimentos.sort_values('metrics.log_loss_mean', ascending=False).loc[:, colunas]"
   ]
  },
  {
   "cell_type": "markdown",
   "metadata": {},
   "source": [
    "## Conclusão da experimentação\n",
    "A partir dos resultados obtidos, podemos observar que o modelo que obteve o\n",
    "melhor desempenho foi uma **Random Forest** combinado com o **CatBoostEncoder**.\n",
    "Embora melhor, o modelo apresenta um tempo de treinamento considerável. Portanto,\n",
    "irei oprtar pelo **XGBoost** com o **CatBoostEncoder**, que apresentou um\n",
    "desempenho satisfatório e um tempo de treinamento menor."
   ]
  },
  {
   "cell_type": "markdown",
   "metadata": {},
   "source": [
    "## Tunando o modelo\n",
    "Nesta fase, irei tunar o modelo escolhido para tentar melhorar o seu desempenho.\n",
    "Para isso, irei usar o **optuna**."
   ]
  },
  {
   "cell_type": "code",
   "execution_count": 59,
   "metadata": {},
   "outputs": [],
   "source": [
    "# Criando função para tunar o modelo\n",
    "def objective(trial):\n",
    "\n",
    "    params = {\n",
    "            'objective': 'binary:logistic',\n",
    "            'eval_metric': 'logloss',\n",
    "            'scale_pos_weight': trial.suggest_float('scale_pos_weight', 1, 10),\n",
    "            'max_depth': trial.suggest_int('max_depth', 3, 10),\n",
    "            'min_child_weight': trial.suggest_int('min_child_weight', 1, 10),\n",
    "            'subsample': trial.suggest_float('subsample', 0.5, 1),\n",
    "            'colsample_bytree': trial.suggest_float('colsample_bytree', 0.5, 1),\n",
    "            'gamma': trial.suggest_float('gamma', 0, 1),\n",
    "            'learning_rate': trial.suggest_float('learning_rate', 0.01, 0.1)\n",
    "        }\n",
    "    \n",
    "    pipe_cat = Pipeline([('encoder', ce.CatBoostEncoder())])\n",
    "    pipe_high_dim = Pipeline([('encoder', ce.CountEncoder())])\n",
    "\n",
    "    # Criando o transformador\n",
    "    transformer = ColumnTransformer([('cat', pipe_cat, cat_cols),\n",
    "                                    ('high_dim', pipe_high_dim, high_dim_cols)])\n",
    "\n",
    "    # Criando o pipeline final\n",
    "    pipe = Pipeline([('transformer', transformer),\n",
    "                    ('remove_corr', DropCorrelatedFeatures()),\n",
    "                    ('remove_const', DropConstantFeatures()),\n",
    "                    ('rf', XGBClassifier(**params))])\n",
    "\n",
    "    # Treinando o modelo com os dados de treino\n",
    "    pipe.fit(x_treino, y_treino)\n",
    "   \n",
    "    logloss = log_loss(y_dev, pipe.predict_proba(x_dev))\n",
    "    \n",
    "    return logloss\n",
    "\n",
    "# Criando o estudo de otimização\n",
    "study = optuna.create_study(direction = 'minimize')\n",
    "study.optimize(objective, n_trials = 100)"
   ]
  },
  {
   "cell_type": "code",
   "execution_count": 60,
   "metadata": {},
   "outputs": [],
   "source": [
    "## Buscando os melhores parâmetros\n",
    "#study.best_params"
   ]
  },
  {
   "cell_type": "code",
   "execution_count": 61,
   "metadata": {},
   "outputs": [
    {
     "name": "stdout",
     "output_type": "stream",
     "text": [
      "Loss: 0.3629626769282729\n"
     ]
    }
   ],
   "source": [
    "# Criando os pipelines com os transformadores\n",
    "pipe_cat = Pipeline([('encoder', ce.CatBoostEncoder())])\n",
    "pipe_high_dim = Pipeline([('encoder', ce.CountEncoder())])\n",
    "\n",
    "# Criando o transformador\n",
    "transformer = ColumnTransformer([('cat', pipe_cat, cat_cols),\n",
    "                                ('high_dim', pipe_high_dim, high_dim_cols)])\n",
    "\n",
    "# Criando o pipeline final\n",
    "pipe = Pipeline([('transformer', transformer),\n",
    "                ('remove_corr', DropCorrelatedFeatures()),\n",
    "                ('remove_const', DropConstantFeatures()),\n",
    "                ('lgbm', XGBClassifier(scale_pos_weight=1.0048991233015618,\n",
    "                                       max_depth=7,\n",
    "                                       min_child_weight=2,\n",
    "                                       subsample=0.6363247324267086,\n",
    "                                       colsample_bytree=0.7570585034996614,\n",
    "                                       gamma=0.9810116635969133,\n",
    "                                       learning_rate=0.08201871719772585,\n",
    "                                       random_state=200))])\n",
    "\n",
    "# Treinando o modelo com os dados de treino\n",
    "pipe.fit(x_treino, y_treino)\n",
    "\n",
    "# Verificando a métrica com os dados de teste\n",
    "loss = log_loss(y_teste, pipe.predict_proba(x_teste)[:,1])\n",
    "print(f'Loss: {loss}')"
   ]
  },
  {
   "cell_type": "markdown",
   "metadata": {},
   "source": [
    "## Conclusão do processo de Tunning\n",
    "A partir do processo de tunning, foi possível reduzir a loss, passando de um \n",
    "valor médio de **0.53** para o valor de **0.36**."
   ]
  },
  {
   "cell_type": "markdown",
   "metadata": {},
   "source": [
    "## Calibrando as probabilidades\n",
    "Como o XGBoost é baseado em árvore, e esse tipo de algoritmo não gera \n",
    "probabilidades calibradas, é necessário usar um calibrador. Antes disso, vamos\n",
    "explorar as nossas previsões."
   ]
  },
  {
   "cell_type": "code",
   "execution_count": 62,
   "metadata": {},
   "outputs": [
    {
     "data": {
      "image/png": "[encoded data removed]",
      "text/plain": [
       "<Figure size 1500x500 with 2 Axes>"
      ]
     },
     "metadata": {},
     "output_type": "display_data"
    }
   ],
   "source": [
    "# Realizando predições nos dados de teste\n",
    "y_pred_uncalibrated = pipe.predict_proba(x_teste)[:,1]\n",
    "\n",
    "# Plotando informações sobre a calibração\n",
    "plt.figure(figsize=(15,5))\n",
    "rd = mli.plot_reliability_diagram(y_teste, y_pred_uncalibrated,show_histogram=True)"
   ]
  },
  {
   "cell_type": "markdown",
   "metadata": {},
   "source": [
    "## Considerações sobre a calibração\n",
    "Podemos ver que o nosso modelo possui boas previsões quando temos uma \n",
    "probabilidade menor que 50%, mas conforme ela aumenta, o modelo começa a errar\n",
    "bastante. Portanto, irei calibrar as probabilidades para tentar melhorar o\n",
    "desempenho do modelo."
   ]
  },
  {
   "cell_type": "markdown",
   "metadata": {},
   "source": [
    "### Platt Scaling"
   ]
  },
  {
   "cell_type": "code",
   "execution_count": 63,
   "metadata": {},
   "outputs": [],
   "source": [
    "# Obtendo as previsões\n",
    "y_calib_predict = pipe.predict_proba(x_calib)[:,1]\n",
    "\n",
    "# Treinando o calibrador\n",
    "platt_calibrator = LogisticRegression(C=99999999999, random_state=200, solver='lbfgs')\n",
    "platt_calibrator.fit(y_calib_predict.reshape(-1,1), y_calib)\n",
    "\n",
    "# Obtendo as predições calibradas\n",
    "platt_probas = platt_calibrator.predict_proba(y_pred_uncalibrated.reshape(-1,1))[:,1]"
   ]
  },
  {
   "cell_type": "code",
   "execution_count": 64,
   "metadata": {},
   "outputs": [
    {
     "name": "stdout",
     "output_type": "stream",
     "text": [
      "Loss: 0.366965008973327\n"
     ]
    }
   ],
   "source": [
    "# Verificando a loss\n",
    "loss = log_loss(y_teste, platt_probas)\n",
    "print(f'Loss: {loss}')"
   ]
  },
  {
   "cell_type": "code",
   "execution_count": 65,
   "metadata": {},
   "outputs": [
    {
     "data": {
      "image/png": "[encoded data removed]",
      "text/plain": [
       "<Figure size 1500x500 with 2 Axes>"
      ]
     },
     "metadata": {},
     "output_type": "display_data"
    }
   ],
   "source": [
    "# Plotando informações sobre a calibração\n",
    "plt.figure(figsize=(15,5))\n",
    "rd = mli.plot_reliability_diagram(y_teste, platt_probas, show_histogram=True)"
   ]
  },
  {
   "cell_type": "markdown",
   "metadata": {},
   "source": [
    "### Isotonic Regression"
   ]
  },
  {
   "cell_type": "code",
   "execution_count": 66,
   "metadata": {},
   "outputs": [],
   "source": [
    "# Obtendo as previsões\n",
    "y_calib_predict = pipe.predict_proba(x_calib)[:,1]\n",
    "\n",
    "# Treinando o calibrador\n",
    "iso_calibrator = IsotonicRegression(out_of_bounds='clip')\n",
    "iso_calibrator.fit(y_calib_predict.reshape(-1,1), y_calib)\n",
    "\n",
    "# Obtendo as predições calibradas\n",
    "iso_probas = iso_calibrator.predict(y_pred_uncalibrated.reshape(-1,1))"
   ]
  },
  {
   "cell_type": "code",
   "execution_count": 67,
   "metadata": {},
   "outputs": [
    {
     "name": "stdout",
     "output_type": "stream",
     "text": [
      "Loss: 0.36464857823536984\n"
     ]
    }
   ],
   "source": [
    "# Verificando a loss\n",
    "loss = log_loss(y_teste, iso_probas)\n",
    "print(f'Loss: {loss}')"
   ]
  },
  {
   "cell_type": "code",
   "execution_count": 68,
   "metadata": {},
   "outputs": [
    {
     "data": {
      "image/png": "[encoded data removed]",
      "text/plain": [
       "<Figure size 1500x500 with 2 Axes>"
      ]
     },
     "metadata": {},
     "output_type": "display_data"
    }
   ],
   "source": [
    "# Plotando informações sobre a calibração\n",
    "plt.figure(figsize=(15,5))\n",
    "rd = mli.plot_reliability_diagram(y_teste, iso_probas, show_histogram=True)"
   ]
  },
  {
   "cell_type": "markdown",
   "metadata": {},
   "source": [
    "### Spline Calibration"
   ]
  },
  {
   "cell_type": "code",
   "execution_count": 69,
   "metadata": {},
   "outputs": [],
   "source": [
    "# Obtendo as previsões\n",
    "y_calib_predict = pipe.predict_proba(x_calib)[:,1]\n",
    "\n",
    "# Treinando o calibrador\n",
    "spline_calibrator = mli.SplineCalib()\n",
    "spline_calibrator.fit(y_calib_predict, y_calib)\n",
    "\n",
    "# Obtendo as predições calibradas\n",
    "spline_probas = spline_calibrator.predict(y_pred_uncalibrated)"
   ]
  },
  {
   "cell_type": "code",
   "execution_count": 70,
   "metadata": {},
   "outputs": [
    {
     "name": "stdout",
     "output_type": "stream",
     "text": [
      "Loss: 0.36464857823536984\n"
     ]
    }
   ],
   "source": [
    "# Verificando a loss\n",
    "loss = log_loss(y_teste, iso_probas)\n",
    "print(f'Loss: {loss}')"
   ]
  },
  {
   "cell_type": "code",
   "execution_count": 71,
   "metadata": {},
   "outputs": [
    {
     "data": {
      "image/png": "[encoded data removed]",
      "text/plain": [
       "<Figure size 1500x500 with 2 Axes>"
      ]
     },
     "metadata": {},
     "output_type": "display_data"
    }
   ],
   "source": [
    "# Plotando informações sobre a calibração\n",
    "plt.figure(figsize=(15,5))\n",
    "rd = mli.plot_reliability_diagram(y_teste, spline_probas, show_histogram=True)"
   ]
  },
  {
   "cell_type": "markdown",
   "metadata": {},
   "source": [
    "## Conclusão da calibração\n",
    "A partir dos resultados obtidos, podemos observar que a calibração proveniente\n",
    "da **Spline Calibration** possui intervalos menores e previsões próximas do \n",
    "perfeito. Portanto, ela será o calibrador."
   ]
  },
  {
   "cell_type": "markdown",
   "metadata": {},
   "source": [
    "## Salvando o modelo e o calibrador\n",
    "\n",
    "Por fim, irei salvar o modelo e o calibrador para serem usados em produção."
   ]
  },
  {
   "cell_type": "code",
   "execution_count": 72,
   "metadata": {},
   "outputs": [
    {
     "data": {
      "text/plain": [
       "['../models/calibrador_final.pkl']"
      ]
     },
     "execution_count": 72,
     "metadata": {},
     "output_type": "execute_result"
    }
   ],
   "source": [
    "# Salvando o modelo\n",
    "joblib.dump(pipe, '../models/modelo_final.pkl')\n",
    "\n",
    "# Salvando o calibrador\n",
    "joblib.dump(spline_calibrator, '../models/calibrador_final.pkl')"
   ]
  }
 ],
 "metadata": {
  "kernelspec": {
   "display_name": "venv",
   "language": "python",
   "name": "python3"
  },
  "language_info": {
   "codemirror_mode": {
    "name": "ipython",
    "version": 3
   },
   "file_extension": ".py",
   "mimetype": "text/x-python",
   "name": "python",
   "nbconvert_exporter": "python",
   "pygments_lexer": "ipython3",
   "version": "3.10.12"
  },
  "orig_nbformat": 4
 },
 "nbformat": 4,
 "nbformat_minor": 2
}
